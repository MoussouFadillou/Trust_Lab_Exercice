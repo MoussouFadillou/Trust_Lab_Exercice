{
  "nbformat": 4,
  "nbformat_minor": 0,
  "metadata": {
    "colab": {
      "name": "Trust_lab.ipynb",
      "provenance": []
    },
    "kernelspec": {
      "name": "python3",
      "display_name": "Python 3"
    },
    "language_info": {
      "name": "python"
    }
  },
  "cells": [
    {
      "cell_type": "code",
      "metadata": {
        "colab": {
          "base_uri": "https://localhost:8080/"
        },
        "id": "M_TQHRGGSg-E",
        "outputId": "00f72294-5bfc-48d1-a761-a82d9856f189"
      },
      "source": [
        "!pip install warc"
      ],
      "execution_count": 2,
      "outputs": [
        {
          "output_type": "stream",
          "name": "stdout",
          "text": [
            "Collecting warc\n",
            "  Downloading warc-0.2.1.tar.gz (18 kB)\n",
            "Building wheels for collected packages: warc\n",
            "  Building wheel for warc (setup.py) ... \u001b[?25l\u001b[?25hdone\n",
            "  Created wheel for warc: filename=warc-0.2.1-py3-none-any.whl size=21788 sha256=2b965e261d00a34a86bc2accfd95a682906b8139b21aeb2384bff94669475921\n",
            "  Stored in directory: /root/.cache/pip/wheels/e8/1b/47/7c4d6cb8449c1c38b86e5c5320a06cb4852e8f703fa23dd9ff\n",
            "Successfully built warc\n",
            "Installing collected packages: warc\n",
            "Successfully installed warc-0.2.1\n"
          ]
        }
      ]
    },
    {
      "cell_type": "code",
      "metadata": {
        "colab": {
          "base_uri": "https://localhost:8080/"
        },
        "id": "NNPNimTVSrLL",
        "outputId": "ceafeaf7-41cc-479a-924a-12b4cf7535c1"
      },
      "source": [
        "!pip install warc requests"
      ],
      "execution_count": 7,
      "outputs": [
        {
          "output_type": "stream",
          "name": "stdout",
          "text": [
            "Requirement already satisfied: warc in /usr/local/lib/python3.7/dist-packages (0.2.1)\n",
            "Requirement already satisfied: requests in /usr/local/lib/python3.7/dist-packages (2.23.0)\n",
            "Requirement already satisfied: certifi>=2017.4.17 in /usr/local/lib/python3.7/dist-packages (from requests) (2021.10.8)\n",
            "Requirement already satisfied: idna<3,>=2.5 in /usr/local/lib/python3.7/dist-packages (from requests) (2.10)\n",
            "Requirement already satisfied: chardet<4,>=3.0.2 in /usr/local/lib/python3.7/dist-packages (from requests) (3.0.4)\n",
            "Requirement already satisfied: urllib3!=1.25.0,!=1.25.1,<1.26,>=1.21.1 in /usr/local/lib/python3.7/dist-packages (from requests) (1.24.3)\n"
          ]
        }
      ]
    },
    {
      "cell_type": "code",
      "metadata": {
        "colab": {
          "base_uri": "https://localhost:8080/"
        },
        "id": "LCOWrQ1pegmb",
        "outputId": "666c2537-f003-4669-871d-3328cbd047dc"
      },
      "source": [
        "!pip install warcio"
      ],
      "execution_count": 20,
      "outputs": [
        {
          "output_type": "stream",
          "name": "stdout",
          "text": [
            "Collecting warcio\n",
            "  Downloading warcio-1.7.4-py2.py3-none-any.whl (40 kB)\n",
            "\u001b[K     |████████████████████████████████| 40 kB 3.0 MB/s \n",
            "\u001b[?25hRequirement already satisfied: six in /usr/local/lib/python3.7/dist-packages (from warcio) (1.15.0)\n",
            "Installing collected packages: warcio\n",
            "Successfully installed warcio-1.7.4\n"
          ]
        }
      ]
    },
    {
      "cell_type": "code",
      "metadata": {
        "colab": {
          "base_uri": "https://localhost:8080/",
          "height": 130
        },
        "id": "wHJNWOKmSMMd",
        "outputId": "73d702bb-e4b5-46d2-f0b5-f05acfdda7c4"
      },
      "source": [
        "import warc\n",
        "import requests\n",
        "from contextlib import closing\n",
        "from StringIO import StringIO\n",
        "\n",
        "def get_partial_warc_file(url, num_bytes=1024 * 10):\n",
        "    \n",
        "    #Download the first part of a WARC file and return a warc.WARCFile instance.\n",
        "\n",
        "    \n",
        "    with closing(requests.get(url, stream=True)) as r:\n",
        "        buf = StringIO(r.raw.read(num_bytes))\n",
        "    return warc.WARCFile(fileobj=buf, compress=True)\n",
        "\n",
        "urls = {\n",
        "    #january\n",
        "    'warc': 'https://commoncrawl.s3.amazonaws.com/crawl-data/CC-MAIN-2020-05/warc.paths.gz'\n",
        "    'wat':  'https://commoncrawl.s3.amazonaws.com/crawl-data/CC-MAIN-2020-05/wat.paths.gz'\n",
        "    'wet':  'https://commoncrawl.s3.amazonaws.com/crawl-data/CC-MAIN-2020-05/wet.paths.gz'\n",
        "\n",
        "    #february\n",
        "    'warc': 'https://commoncrawl.s3.amazonaws.com/crawl-data/CC-MAIN-2020-10/warc.paths.gz'\n",
        "    'wat':  'https://commoncrawl.s3.amazonaws.com/crawl-data/CC-MAIN-2020-10/wat.paths.gz'\n",
        "    'wet':  'https://commoncrawl.s3.amazonaws.com/crawl-data/CC-MAIN-2020-10/wet.paths.gz'\n",
        "    #March/april\n",
        "    'warc': 'https://commoncrawl.s3.amazonaws.com/crawl-data/CC-MAIN-2020-16/warc.paths.gz'\n",
        "    'wat':  'https://commoncrawl.s3.amazonaws.com/crawl-data/CC-MAIN-2020-16/wat.paths.gz'\n",
        "    'wet':  'https://commoncrawl.s3.amazonaws.com/crawl-data/CC-MAIN-2020-16/wet.paths.gz'\n",
        "\n",
        "    #May/june\n",
        "    'warc': 'https://commoncrawl.s3.amazonaws.com/crawl-data/CC-MAIN-2020-24/warc.paths.gz'\n",
        "    'wat':  'https://commoncrawl.s3.amazonaws.com/crawl-data/CC-MAIN-2020-24/wat.paths.gz'\n",
        "    'wet':  'https://commoncrawl.s3.amazonaws.com/crawl-data/CC-MAIN-2020-24/wet.paths.gz'\n",
        "   \n",
        "   #july\n",
        "    'warc': 'https://commoncrawl.s3.amazonaws.com/crawl-data/CC-MAIN-2020-29/warc.paths.gz'\n",
        "    'wat':  'https://commoncrawl.s3.amazonaws.com/crawl-data/CC-MAIN-2020-29/wat.paths.gz'\n",
        "    'wet':  'https://commoncrawl.s3.amazonaws.com/crawl-data/CC-MAIN-2020-29/wet.paths.gz'\n",
        "\n",
        "\n",
        "    #august\n",
        "    'warc': 'https://commoncrawl.s3.amazonaws.com/crawl-data/CC-MAIN-2020-34/warc.paths.gz'\n",
        "    'wat':  'https://commoncrawl.s3.amazonaws.com/crawl-data/CC-MAIN-2020-34/wat.paths.gz'\n",
        "    'wet':  'https://commoncrawl.s3.amazonaws.com/crawl-data/CC-MAIN-2020-34/wet.paths.gz'\n",
        "\n",
        "    #september\n",
        "    'warc': 'https://commoncrawl.s3.amazonaws.com/crawl-data/CC-MAIN-2020-40/warc.paths.gz'\n",
        "    'wat':  'https://commoncrawl.s3.amazonaws.com/crawl-data/CC-MAIN-2020-40/wat.paths.gz'\n",
        "    'wet':  'https://commoncrawl.s3.amazonaws.com/crawl-data/CC-MAIN-2020-40/wet.paths.gz'\n",
        "\n",
        "     #october\n",
        "    'warc': 'https://commoncrawl.s3.amazonaws.com/crawl-data/CC-MAIN-2020-45/warc.paths.gz'\n",
        "    'wat':  'https://commoncrawl.s3.amazonaws.com/crawl-data/CC-MAIN-2020-45/wat.paths.gz'\n",
        "    'wet':  'https://commoncrawl.s3.amazonaws.com/crawl-data/CC-MAIN-2020-45/wet.paths.gz'\n",
        "\n",
        "#november/december\n",
        " 'warc': 'https://commoncrawl.s3.amazonaws.com/crawl-data/CC-MAIN-2020-50/warc.paths.gz'\n",
        "    'wat':  'https://commoncrawl.s3.amazonaws.com/crawl-data/CC-MAIN-2020-50/wat.paths.gz'\n",
        "    'wet':  'https://commoncrawl.s3.amazonaws.com/crawl-data/CC-MAIN-2020-50/wet.paths.gz'\n",
        "\n",
        "}\n",
        "\n",
        "#download files\n",
        "files = {file_type: get_partial_warc_file(url=url) for file_type, url in urls.items()}\n"
      ],
      "execution_count": 23,
      "outputs": [
        {
          "output_type": "error",
          "ename": "SyntaxError",
          "evalue": "ignored",
          "traceback": [
            "\u001b[0;36m  File \u001b[0;32m\"<ipython-input-23-0568df385665>\"\u001b[0;36m, line \u001b[0;32m22\u001b[0m\n\u001b[0;31m    'wat':  'https://commoncrawl.s3.amazonaws.com/crawl-data/CC-MAIN-2020-05/wat.gz'\u001b[0m\n\u001b[0m         ^\u001b[0m\n\u001b[0;31mSyntaxError\u001b[0m\u001b[0;31m:\u001b[0m invalid syntax\n"
          ]
        }
      ]
    },
    {
      "cell_type": "code",
      "metadata": {
        "id": "57Hs1ImuTJXU"
      },
      "source": [
        ""
      ],
      "execution_count": null,
      "outputs": []
    }
  ]
}